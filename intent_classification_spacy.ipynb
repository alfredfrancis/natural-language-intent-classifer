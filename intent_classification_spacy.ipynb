{
 "cells": [
  {
   "cell_type": "code",
   "execution_count": 136,
   "metadata": {
    "id": "9e23lvSDeEik",
    "colab_type": "code",
    "colab": {
     "autoexec": {
      "startup": false,
      "wait_interval": 0.0
     },
     "base_uri": "https://localhost:8080/",
     "height": 224.0
    },
    "outputId": "ce309c38-a75e-42e3-9ccb-ab8b8a66e4df",
    "executionInfo": {
     "status": "ok",
     "timestamp": 1.526222308417E12,
     "user_tz": -330.0,
     "elapsed": 19146.0,
     "user": {
      "displayName": "Alfred Francis",
      "photoUrl": "//lh6.googleusercontent.com/-FiohH8sOFgo/AAAAAAAAAAI/AAAAAAAABiw/3IYKS9in-7s/s50-c-k-no/photo.jpg",
      "userId": "109066982880083606827"
     }
    }
   },
   "outputs": [
    {
     "name": "stdout",
     "output_type": "stream",
     "text": [
      "Collecting https://github.com/explosion/spacy-models/releases/download/en_core_web_sm-2.0.0/en_core_web_sm-2.0.0.tar.gz\n",
      "\u001b[?25l  Downloading https://github.com/explosion/spacy-models/releases/download/en_core_web_sm-2.0.0/en_core_web_sm-2.0.0.tar.gz (37.4MB)\n",
      "\u001b[K    100% |████████████████████████████████| 37.4MB 7.0MB/s \n",
      "\u001b[?25hRequirement already satisfied (use --upgrade to upgrade): en-core-web-sm==2.0.0 from https://github.com/explosion/spacy-models/releases/download/en_core_web_sm-2.0.0/en_core_web_sm-2.0.0.tar.gz in /usr/local/lib/python3.6/dist-packages\n",
      "\n",
      "\u001b[93m    Linking successful\u001b[0m\n",
      "    /usr/local/lib/python3.6/dist-packages/en_core_web_sm -->\n",
      "    /usr/local/lib/python3.6/dist-packages/spacy/data/en\n",
      "\n",
      "    You can now load the model via spacy.load('en')\n",
      "\n"
     ]
    }
   ],
   "source": [
    "!pip install -q -U tensorflow==1.8.0\n",
    "!pip install -q -U sklearn\n",
    "!pip install -q -U  numpy\n",
    "!pip install -q -U spacy\n",
    "!python -m spacy download en\n",
    "\n"
   ]
  },
  {
   "cell_type": "code",
   "execution_count": 0,
   "metadata": {
    "id": "3D-pNUb7e3bI",
    "colab_type": "code",
    "colab": {
     "autoexec": {
      "startup": false,
      "wait_interval": 0.0
     }
    }
   },
   "outputs": [],
   "source": [
    "import numpy as np\n",
    "import tensorflow as tf\n",
    "import spacy\n",
    "nlp = spacy.load('en')"
   ]
  },
  {
   "cell_type": "code",
   "execution_count": 0,
   "metadata": {
    "id": "WZU7wRH3e6HJ",
    "colab_type": "code",
    "colab": {
     "autoexec": {
      "startup": false,
      "wait_interval": 0.0
     }
    }
   },
   "outputs": [],
   "source": [
    "\n",
    "#training data\n",
    "\n",
    "X =[u'i want to cancel', u'cancel that', u'cancel', u'im looking for a place in banglore serving Chinese', u\"i'm looking for Chinese food\", u\"I'm looking for south indian places\", u'im looking for a place near banglore', u\"i'm looking for a place to eat near down town la\", u\"i'm looking for a place in new york\", u'im looking for a place in banglore', u'looking for indian cuisine in new york', u'central indian restaurant', u'I am looking for mexican indian fusion', u'I am looking a restaurant in 29432', u'I am looking for asian fusion food', u'anywhere near 18328', u'anywhere in the west', u'search for restaurants', u'i am looking for an indian spot called olaolaolaolaolaola', u'show me a mexican place in the centre', u'show me chines restaurants in the north', u'show me chinese restaurants', u\"i'm looking for a place in the north of town\", u'I am searching for a dinner spot', u'I want to grab lunch', u\"i'm looking for a place to eat\", u'dear sir', u'good evening', u'good morning', u'hi', u'hello', u'hey there', u'howdy', u'hey', u'sounds really good', u'great choice', u'correct', u'right, thank you', u'great', u'ok', u\"that's right\", u'indeed', u'yeah', u'yep', u'yes', u'have a good one', u'Bye bye', u'farewell', u'end', u'stop', u'good bye', u'goodbye', u'bye', u'thank you iky', u'thanks', u'thank you very much']\n",
    "y = ['cancel', 'cancel', 'cancel', 'restaurant_search', 'restaurant_search', 'restaurant_search', 'restaurant_search', 'restaurant_search', 'restaurant_search', 'restaurant_search', 'restaurant_search', 'restaurant_search', 'restaurant_search', 'restaurant_search', 'restaurant_search', 'restaurant_search', 'restaurant_search', 'restaurant_search', 'restaurant_search', 'restaurant_search', 'restaurant_search', 'restaurant_search', 'restaurant_search', 'restaurant_search', 'restaurant_search', 'restaurant_search', 'greet', 'greet', 'greet', 'greet', 'greet', 'greet', 'greet', 'greet', 'affirm', 'affirm', 'affirm', 'affirm', 'affirm', 'affirm', 'affirm', 'affirm', 'affirm', 'affirm', 'affirm', 'goodbye', 'goodbye', 'goodbye', 'goodbye', 'goodbye', 'goodbye', 'goodbye', 'goodbye', 'thank_you', 'thank_you', 'thank_you']\n"
   ]
  },
  {
   "cell_type": "code",
   "execution_count": 99,
   "metadata": {
    "id": "7A9cUsD62Ivg",
    "colab_type": "code",
    "colab": {
     "autoexec": {
      "startup": false,
      "wait_interval": 0.0
     },
     "base_uri": "https://localhost:8080/",
     "height": 238.0
    },
    "outputId": "259d0e3e-deb4-4679-f304-3854e7c4c33d",
    "executionInfo": {
     "status": "ok",
     "timestamp": 1.526221123046E12,
     "user_tz": -330.0,
     "elapsed": 8465.0,
     "user": {
      "displayName": "Alfred Francis",
      "photoUrl": "//lh6.googleusercontent.com/-FiohH8sOFgo/AAAAAAAAAAI/AAAAAAAABiw/3IYKS9in-7s/s50-c-k-no/photo.jpg",
      "userId": "109066982880083606827"
     }
    }
   },
   "outputs": [
    {
     "name": "stdout",
     "output_type": "stream",
     "text": [
      "Collecting https://github.com/explosion/spacy-models/releases/download/en_core_web_sm-2.0.0/en_core_web_sm-2.0.0.tar.gz\n",
      "\u001b[?25l  Downloading https://github.com/explosion/spacy-models/releases/download/en_core_web_sm-2.0.0/en_core_web_sm-2.0.0.tar.gz (37.4MB)\n",
      "\u001b[K    100% |████████████████████████████████| 37.4MB 60.1MB/s \n",
      "\u001b[?25hInstalling collected packages: en-core-web-sm\n",
      "  Running setup.py install for en-core-web-sm ... \u001b[?25l-\b \b\\\b \b|\b \bdone\n",
      "\u001b[?25hSuccessfully installed en-core-web-sm-2.0.0\n",
      "\n",
      "\u001b[93m    Linking successful\u001b[0m\n",
      "    /usr/local/lib/python3.6/dist-packages/en_core_web_sm -->\n",
      "    /usr/local/lib/python3.6/dist-packages/spacy/data/en\n",
      "\n",
      "    You can now load the model via spacy.load('en')\n",
      "\n"
     ]
    }
   ],
   "source": [
    ""
   ]
  },
  {
   "cell_type": "code",
   "execution_count": 157,
   "metadata": {
    "id": "Q5xMG4hffrY3",
    "colab_type": "code",
    "colab": {
     "autoexec": {
      "startup": false,
      "wait_interval": 0.0
     },
     "base_uri": "https://localhost:8080/",
     "height": 255.0
    },
    "outputId": "b1e0dfdc-0ec1-470f-b599-fdc82323223f",
    "executionInfo": {
     "status": "ok",
     "timestamp": 1.526222965055E12,
     "user_tz": -330.0,
     "elapsed": 1715.0,
     "user": {
      "displayName": "Alfred Francis",
      "photoUrl": "//lh6.googleusercontent.com/-FiohH8sOFgo/AAAAAAAAAAI/AAAAAAAABiw/3IYKS9in-7s/s50-c-k-no/photo.jpg",
      "userId": "109066982880083606827"
     }
    }
   },
   "outputs": [
    {
     "name": "stdout",
     "output_type": "stream",
     "text": [
      "[[ 0.7439925   0.47500432  1.7174635  ... -0.10623532  0.20589437\n",
      "  -0.0548238 ]\n",
      " [ 2.7006192   0.6802906   1.6995202  ... -0.07486539  0.09393249\n",
      "  -0.14652586]\n",
      " [-1.1281996   1.4189541   3.0053968  ... -0.5013096   0.25840303\n",
      "  -0.4108916 ]\n",
      " ...\n",
      " [-0.09876251 -1.1779536   2.6216795  ...  0.6765316   0.06103614\n",
      "  -0.01082057]\n",
      " [ 1.155243    3.1034093   3.712947   ...  0.3397486   0.12243246\n",
      "   0.24622968]\n",
      " [ 0.18381912 -1.6224215  -0.3685107  ...  0.3254633  -0.01642913\n",
      "   0.05653178]]\n",
      "(56, 384)\n"
     ]
    }
   ],
   "source": [
    "vocab_size = 384\n",
    "# tokenize = tf.keras.preprocessing.text.Tokenizer(num_words=vocab_size)\n",
    "# tokenize.fit_on_texts(X)\n",
    "# x_train = tokenize.texts_to_matrix(X)\n",
    "# print(x_train.shape)\n",
    "# print(x_train)\n",
    "\n",
    "x_train = np.array([list(nlp(x).vector) for x in X])\n",
    "print(x_train)\n",
    "print(x_train.shape)\n"
   ]
  },
  {
   "cell_type": "code",
   "execution_count": 158,
   "metadata": {
    "id": "YoFvAXxdg4_X",
    "colab_type": "code",
    "colab": {
     "autoexec": {
      "startup": false,
      "wait_interval": 0.0
     },
     "base_uri": "https://localhost:8080/",
     "height": 34.0
    },
    "outputId": "72f4c40f-7d31-40f7-c113-b96de949c1ec",
    "executionInfo": {
     "status": "ok",
     "timestamp": 1.526222970662E12,
     "user_tz": -330.0,
     "elapsed": 1111.0,
     "user": {
      "displayName": "Alfred Francis",
      "photoUrl": "//lh6.googleusercontent.com/-FiohH8sOFgo/AAAAAAAAAAI/AAAAAAAABiw/3IYKS9in-7s/s50-c-k-no/photo.jpg",
      "userId": "109066982880083606827"
     }
    }
   },
   "outputs": [
    {
     "name": "stdout",
     "output_type": "stream",
     "text": [
      "6\n"
     ]
    }
   ],
   "source": [
    "num_labels = len(set(y))\n",
    "print(num_labels)\n",
    "from sklearn.preprocessing import LabelBinarizer\n",
    "encoder = LabelBinarizer()\n",
    "encoder.fit(y)\n",
    "y_train = encoder.transform(y)"
   ]
  },
  {
   "cell_type": "code",
   "execution_count": 159,
   "metadata": {
    "id": "rUEGgT4TiASh",
    "colab_type": "code",
    "colab": {
     "autoexec": {
      "startup": false,
      "wait_interval": 0.0
     },
     "base_uri": "https://localhost:8080/",
     "height": 238.0
    },
    "outputId": "a848695d-e6e9-40af-f456-f420634a164a",
    "executionInfo": {
     "status": "ok",
     "timestamp": 1.52622297391E12,
     "user_tz": -330.0,
     "elapsed": 1371.0,
     "user": {
      "displayName": "Alfred Francis",
      "photoUrl": "//lh6.googleusercontent.com/-FiohH8sOFgo/AAAAAAAAAAI/AAAAAAAABiw/3IYKS9in-7s/s50-c-k-no/photo.jpg",
      "userId": "109066982880083606827"
     }
    }
   },
   "outputs": [
    {
     "name": "stdout",
     "output_type": "stream",
     "text": [
      "_________________________________________________________________\n",
      "Layer (type)                 Output Shape              Param #   \n",
      "=================================================================\n",
      "dense_29 (Dense)             (None, 512)               197120    \n",
      "_________________________________________________________________\n",
      "dense_30 (Dense)             (None, 6)                 3078      \n",
      "_________________________________________________________________\n",
      "dense_31 (Dense)             (None, 6)                 42        \n",
      "=================================================================\n",
      "Total params: 200,240\n",
      "Trainable params: 200,240\n",
      "Non-trainable params: 0\n",
      "_________________________________________________________________\n"
     ]
    }
   ],
   "source": [
    "model = tf.keras.Sequential()\n",
    "model.add(tf.keras.layers.Dense(512, activation=tf.nn.relu, input_shape=(vocab_size,)))\n",
    "model.add(tf.keras.layers.Dense(num_labels, activation=tf.nn.relu))\n",
    "\n",
    "model.add(tf.keras.layers.Dense(num_labels, activation=tf.nn.softmax))\n",
    "\n",
    "model.compile(loss='categorical_crossentropy',\n",
    "              optimizer='rmsprop',\n",
    "              metrics=['accuracy'])\n",
    "\n",
    "model.summary()"
   ]
  },
  {
   "cell_type": "code",
   "execution_count": 166,
   "metadata": {
    "id": "Zw97Xw-Qifnn",
    "colab_type": "code",
    "colab": {
     "autoexec": {
      "startup": false,
      "wait_interval": 0.0
     },
     "base_uri": "https://localhost:8080/",
     "height": 714.0
    },
    "outputId": "f4446ca2-2fc1-4182-9dcb-bc48194cf3d6",
    "executionInfo": {
     "status": "ok",
     "timestamp": 1.526223115678E12,
     "user_tz": -330.0,
     "elapsed": 1291.0,
     "user": {
      "displayName": "Alfred Francis",
      "photoUrl": "//lh6.googleusercontent.com/-FiohH8sOFgo/AAAAAAAAAAI/AAAAAAAABiw/3IYKS9in-7s/s50-c-k-no/photo.jpg",
      "userId": "109066982880083606827"
     }
    }
   },
   "outputs": [
    {
     "name": "stdout",
     "output_type": "stream",
     "text": [
      "Epoch 1/20\n",
      "56/56 [==============================] - 0s 461us/step - loss: 2.0539 - acc: 0.7321\n",
      "Epoch 2/20\n",
      "56/56 [==============================] - 0s 379us/step - loss: 0.9030 - acc: 0.7679\n",
      "Epoch 3/20\n",
      "56/56 [==============================] - 0s 343us/step - loss: 0.5542 - acc: 0.8214\n",
      "Epoch 4/20\n",
      "56/56 [==============================] - 0s 325us/step - loss: 0.4536 - acc: 0.8571\n",
      "Epoch 5/20\n",
      "56/56 [==============================] - 0s 336us/step - loss: 0.4129 - acc: 0.8393\n",
      "Epoch 6/20\n",
      "56/56 [==============================] - 0s 390us/step - loss: 0.3951 - acc: 0.8571\n",
      "Epoch 7/20\n",
      "56/56 [==============================] - 0s 374us/step - loss: 0.3778 - acc: 0.8571\n",
      "Epoch 8/20\n",
      "56/56 [==============================] - 0s 404us/step - loss: 0.3641 - acc: 0.8571\n",
      "Epoch 9/20\n",
      "56/56 [==============================] - 0s 381us/step - loss: 0.3582 - acc: 0.8393\n",
      "Epoch 10/20\n",
      "56/56 [==============================] - 0s 339us/step - loss: 0.3622 - acc: 0.8571\n",
      "Epoch 11/20\n",
      "56/56 [==============================] - 0s 319us/step - loss: 0.3533 - acc: 0.8571\n",
      "Epoch 12/20\n",
      "56/56 [==============================] - 0s 331us/step - loss: 0.3570 - acc: 0.8571\n",
      "Epoch 13/20\n",
      "56/56 [==============================] - 0s 354us/step - loss: 0.3477 - acc: 0.8571\n",
      "Epoch 14/20\n",
      "56/56 [==============================] - 0s 304us/step - loss: 0.3391 - acc: 0.8571\n",
      "Epoch 15/20\n",
      "56/56 [==============================] - 0s 285us/step - loss: 0.3329 - acc: 0.8571\n",
      "Epoch 16/20\n",
      "56/56 [==============================] - 0s 339us/step - loss: 0.3275 - acc: 0.8571\n",
      "Epoch 17/20\n",
      "56/56 [==============================] - 0s 284us/step - loss: 0.3263 - acc: 0.8571\n",
      "Epoch 18/20\n",
      "56/56 [==============================] - 0s 316us/step - loss: 0.3265 - acc: 0.8571\n",
      "Epoch 19/20\n",
      "56/56 [==============================] - 0s 321us/step - loss: 0.3255 - acc: 0.8571\n",
      "Epoch 20/20\n",
      "56/56 [==============================] - 0s 321us/step - loss: 0.3249 - acc: 0.8571\n"
     ]
    },
    {
     "data": {
      "text/plain": [
       "<tensorflow.python.keras._impl.keras.callbacks.History at 0x7f76c9aaa550>"
      ]
     },
     "execution_count": 166,
     "metadata": {
      "tags": []
     },
     "output_type": "execute_result"
    }
   ],
   "source": [
    "model.fit(x_train, y_train,shuffle=True, epochs=20, verbose=1)"
   ]
  },
  {
   "cell_type": "code",
   "execution_count": 167,
   "metadata": {
    "id": "-S40ynFPkcQR",
    "colab_type": "code",
    "colab": {
     "autoexec": {
      "startup": false,
      "wait_interval": 0.0
     },
     "base_uri": "https://localhost:8080/",
     "height": 85.0
    },
    "outputId": "4626deeb-89af-403d-f439-6b4de0a60cae",
    "executionInfo": {
     "status": "ok",
     "timestamp": 1.526223119848E12,
     "user_tz": -330.0,
     "elapsed": 1318.0,
     "user": {
      "displayName": "Alfred Francis",
      "photoUrl": "//lh6.googleusercontent.com/-FiohH8sOFgo/AAAAAAAAAAI/AAAAAAAABiw/3IYKS9in-7s/s50-c-k-no/photo.jpg",
      "userId": "109066982880083606827"
     }
    }
   },
   "outputs": [
    {
     "name": "stdout",
     "output_type": "stream",
     "text": [
      "[[1.9699096e-04 7.6671859e-06 3.5401441e-03 2.8530066e-03 9.3622208e-03\n",
      "  9.8403996e-01]]\n",
      "Predicted label: thank_you\n",
      "Confidence: 0.98\n"
     ]
    }
   ],
   "source": [
    "query = \"thanks\"\n",
    "\n",
    "# x_predict = tokenize.texts_to_matrix([query])\n",
    "\n",
    "x_predict = [nlp(query).vector]\n",
    "\n",
    "prediction = model.predict(np.array([x_predict[0]]))\n",
    "print(prediction)\n",
    "text_labels = encoder.classes_ \n",
    "predicted_label = text_labels[np.argmax(prediction[0])]\n",
    "print(\"Predicted label: \" + predicted_label )\n",
    "\n",
    "print(\"Confidence: %.2f\"% prediction[0].max())\n"
   ]
  },
  {
   "cell_type": "code",
   "execution_count": 168,
   "metadata": {
    "id": "OoiQqxBdu_pU",
    "colab_type": "code",
    "colab": {
     "autoexec": {
      "startup": false,
      "wait_interval": 0.0
     },
     "base_uri": "https://localhost:8080/",
     "height": 51.0
    },
    "outputId": "4b52fef9-d86b-4f71-e399-5a92d39cc15b",
    "executionInfo": {
     "status": "ok",
     "timestamp": 1.52622312343E12,
     "user_tz": -330.0,
     "elapsed": 1154.0,
     "user": {
      "displayName": "Alfred Francis",
      "photoUrl": "//lh6.googleusercontent.com/-FiohH8sOFgo/AAAAAAAAAAI/AAAAAAAABiw/3IYKS9in-7s/s50-c-k-no/photo.jpg",
      "userId": "109066982880083606827"
     }
    }
   },
   "outputs": [
    {
     "name": "stdout",
     "output_type": "stream",
     "text": [
      "56/56 [==============================] - 0s 155us/step\n",
      "Test accuracy: 0.84\n"
     ]
    }
   ],
   "source": [
    "loss, accuracy = model.evaluate(x_train, y_train)\n",
    "print('Test accuracy: %.2f' % (accuracy))"
   ]
  }
 ],
 "metadata": {
  "colab": {
   "name": "intent_classification.ipynb",
   "version": "0.3.2",
   "views": {},
   "default_view": {},
   "provenance": [],
   "collapsed_sections": []
  },
  "kernelspec": {
   "name": "python3",
   "display_name": "Python 3"
  }
 },
 "nbformat": 4,
 "nbformat_minor": 0
}
